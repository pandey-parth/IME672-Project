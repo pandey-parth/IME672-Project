{
 "cells": [
  {
   "cell_type": "code",
   "execution_count": 1,
   "metadata": {
    "scrolled": true
   },
   "outputs": [
    {
     "name": "stdout",
     "output_type": "stream",
     "text": [
      "unique values in sex column-  [2 1]\n",
      "unique values in patient_type column-  [1 2]\n",
      "unique values in intubed column-  [97  2  1 99]\n",
      "unique values in pneumonia column-  [ 2  1 99]\n",
      "unique values in pregnancy column-  [97  2  1 98]\n",
      "unique values in diabetes column-  [ 2  1 98]\n",
      "unique values in copd column-  [ 2  1 98]\n",
      "unique values in asthma column-  [ 2  1 98]\n",
      "unique values in inmsupr column-  [ 2  1 98]\n",
      "unique values in hypertension column-  [ 2  1 98]\n",
      "unique values in other_disease column-  [ 2  1 98]\n",
      "unique values in cardiovascular column-  [ 2  1 98]\n",
      "unique values in obesity column-  [ 2  1 98]\n",
      "unique values in renal_chronic column-  [ 2  1 98]\n",
      "unique values in tobacco column-  [ 2  1 98]\n",
      "unique values in contact_other_covid column-  [ 2 99  1]\n",
      "unique values in covid_res column-  [1 2 3]\n",
      "unique values in icu column-  [97  2  1 99]\n"
     ]
    },
    {
     "name": "stderr",
     "output_type": "stream",
     "text": [
      "C:\\Users\\parth\\anaconda3\\lib\\site-packages\\pandas\\core\\indexing.py:965: SettingWithCopyWarning: \n",
      "A value is trying to be set on a copy of a slice from a DataFrame.\n",
      "Try using .loc[row_indexer,col_indexer] = value instead\n",
      "\n",
      "See the caveats in the documentation: https://pandas.pydata.org/pandas-docs/stable/user_guide/indexing.html#returning-a-view-versus-a-copy\n",
      "  self.obj[item] = s\n"
     ]
    },
    {
     "data": {
      "text/html": [
       "<div>\n",
       "<style scoped>\n",
       "    .dataframe tbody tr th:only-of-type {\n",
       "        vertical-align: middle;\n",
       "    }\n",
       "\n",
       "    .dataframe tbody tr th {\n",
       "        vertical-align: top;\n",
       "    }\n",
       "\n",
       "    .dataframe thead th {\n",
       "        text-align: right;\n",
       "    }\n",
       "</style>\n",
       "<table border=\"1\" class=\"dataframe\">\n",
       "  <thead>\n",
       "    <tr style=\"text-align: right;\">\n",
       "      <th></th>\n",
       "      <th>sex</th>\n",
       "      <th>patient_type</th>\n",
       "      <th>entry_date</th>\n",
       "      <th>date_symptoms</th>\n",
       "      <th>date_died</th>\n",
       "      <th>age</th>\n",
       "      <th>intubed</th>\n",
       "      <th>pneumonia</th>\n",
       "      <th>pregnancy</th>\n",
       "      <th>diabetes</th>\n",
       "      <th>...</th>\n",
       "      <th>inmsupr</th>\n",
       "      <th>hypertension</th>\n",
       "      <th>other_disease</th>\n",
       "      <th>cardiovascular</th>\n",
       "      <th>obesity</th>\n",
       "      <th>renal_chronic</th>\n",
       "      <th>tobacco</th>\n",
       "      <th>contact_other_covid</th>\n",
       "      <th>covid_res</th>\n",
       "      <th>icu</th>\n",
       "    </tr>\n",
       "  </thead>\n",
       "  <tbody>\n",
       "    <tr>\n",
       "      <th>0</th>\n",
       "      <td>2</td>\n",
       "      <td>1</td>\n",
       "      <td>2020-04-05</td>\n",
       "      <td>2020-02-05</td>\n",
       "      <td>Not Applicable</td>\n",
       "      <td>27</td>\n",
       "      <td>NaN</td>\n",
       "      <td>No</td>\n",
       "      <td>NaN</td>\n",
       "      <td>No</td>\n",
       "      <td>...</td>\n",
       "      <td>No</td>\n",
       "      <td>No</td>\n",
       "      <td>No</td>\n",
       "      <td>No</td>\n",
       "      <td>No</td>\n",
       "      <td>No</td>\n",
       "      <td>No</td>\n",
       "      <td>No</td>\n",
       "      <td>Positive</td>\n",
       "      <td>NaN</td>\n",
       "    </tr>\n",
       "    <tr>\n",
       "      <th>1</th>\n",
       "      <td>2</td>\n",
       "      <td>1</td>\n",
       "      <td>2020-03-19</td>\n",
       "      <td>2020-03-17</td>\n",
       "      <td>Not Applicable</td>\n",
       "      <td>24</td>\n",
       "      <td>NaN</td>\n",
       "      <td>No</td>\n",
       "      <td>NaN</td>\n",
       "      <td>No</td>\n",
       "      <td>...</td>\n",
       "      <td>No</td>\n",
       "      <td>No</td>\n",
       "      <td>No</td>\n",
       "      <td>No</td>\n",
       "      <td>No</td>\n",
       "      <td>No</td>\n",
       "      <td>No</td>\n",
       "      <td>NaN</td>\n",
       "      <td>Positive</td>\n",
       "      <td>NaN</td>\n",
       "    </tr>\n",
       "    <tr>\n",
       "      <th>2</th>\n",
       "      <td>1</td>\n",
       "      <td>2</td>\n",
       "      <td>2020-06-04</td>\n",
       "      <td>2020-01-04</td>\n",
       "      <td>Not Applicable</td>\n",
       "      <td>54</td>\n",
       "      <td>No</td>\n",
       "      <td>No</td>\n",
       "      <td>No</td>\n",
       "      <td>No</td>\n",
       "      <td>...</td>\n",
       "      <td>No</td>\n",
       "      <td>No</td>\n",
       "      <td>No</td>\n",
       "      <td>No</td>\n",
       "      <td>Yes</td>\n",
       "      <td>No</td>\n",
       "      <td>No</td>\n",
       "      <td>NaN</td>\n",
       "      <td>Positive</td>\n",
       "      <td>No</td>\n",
       "    </tr>\n",
       "    <tr>\n",
       "      <th>3</th>\n",
       "      <td>2</td>\n",
       "      <td>2</td>\n",
       "      <td>2020-04-17</td>\n",
       "      <td>2020-10-04</td>\n",
       "      <td>Not Applicable</td>\n",
       "      <td>30</td>\n",
       "      <td>No</td>\n",
       "      <td>Yes</td>\n",
       "      <td>NaN</td>\n",
       "      <td>No</td>\n",
       "      <td>...</td>\n",
       "      <td>No</td>\n",
       "      <td>No</td>\n",
       "      <td>No</td>\n",
       "      <td>No</td>\n",
       "      <td>No</td>\n",
       "      <td>No</td>\n",
       "      <td>No</td>\n",
       "      <td>NaN</td>\n",
       "      <td>Positive</td>\n",
       "      <td>No</td>\n",
       "    </tr>\n",
       "    <tr>\n",
       "      <th>4</th>\n",
       "      <td>1</td>\n",
       "      <td>2</td>\n",
       "      <td>2020-04-13</td>\n",
       "      <td>2020-04-13</td>\n",
       "      <td>22-04-2020</td>\n",
       "      <td>60</td>\n",
       "      <td>No</td>\n",
       "      <td>No</td>\n",
       "      <td>No</td>\n",
       "      <td>Yes</td>\n",
       "      <td>...</td>\n",
       "      <td>No</td>\n",
       "      <td>Yes</td>\n",
       "      <td>No</td>\n",
       "      <td>Yes</td>\n",
       "      <td>No</td>\n",
       "      <td>No</td>\n",
       "      <td>No</td>\n",
       "      <td>NaN</td>\n",
       "      <td>Positive</td>\n",
       "      <td>No</td>\n",
       "    </tr>\n",
       "    <tr>\n",
       "      <th>...</th>\n",
       "      <td>...</td>\n",
       "      <td>...</td>\n",
       "      <td>...</td>\n",
       "      <td>...</td>\n",
       "      <td>...</td>\n",
       "      <td>...</td>\n",
       "      <td>...</td>\n",
       "      <td>...</td>\n",
       "      <td>...</td>\n",
       "      <td>...</td>\n",
       "      <td>...</td>\n",
       "      <td>...</td>\n",
       "      <td>...</td>\n",
       "      <td>...</td>\n",
       "      <td>...</td>\n",
       "      <td>...</td>\n",
       "      <td>...</td>\n",
       "      <td>...</td>\n",
       "      <td>...</td>\n",
       "      <td>...</td>\n",
       "      <td>...</td>\n",
       "    </tr>\n",
       "    <tr>\n",
       "      <th>499687</th>\n",
       "      <td>2</td>\n",
       "      <td>1</td>\n",
       "      <td>2020-03-26</td>\n",
       "      <td>2020-03-20</td>\n",
       "      <td>Not Applicable</td>\n",
       "      <td>77</td>\n",
       "      <td>NaN</td>\n",
       "      <td>Yes</td>\n",
       "      <td>NaN</td>\n",
       "      <td>No</td>\n",
       "      <td>...</td>\n",
       "      <td>No</td>\n",
       "      <td>No</td>\n",
       "      <td>Yes</td>\n",
       "      <td>No</td>\n",
       "      <td>No</td>\n",
       "      <td>No</td>\n",
       "      <td>Yes</td>\n",
       "      <td>No</td>\n",
       "      <td>Negative</td>\n",
       "      <td>NaN</td>\n",
       "    </tr>\n",
       "    <tr>\n",
       "      <th>499688</th>\n",
       "      <td>2</td>\n",
       "      <td>2</td>\n",
       "      <td>2020-03-28</td>\n",
       "      <td>2020-03-23</td>\n",
       "      <td>Not Applicable</td>\n",
       "      <td>63</td>\n",
       "      <td>Yes</td>\n",
       "      <td>Yes</td>\n",
       "      <td>NaN</td>\n",
       "      <td>No</td>\n",
       "      <td>...</td>\n",
       "      <td>No</td>\n",
       "      <td>Yes</td>\n",
       "      <td>No</td>\n",
       "      <td>No</td>\n",
       "      <td>Yes</td>\n",
       "      <td>No</td>\n",
       "      <td>Yes</td>\n",
       "      <td>No</td>\n",
       "      <td>Negative</td>\n",
       "      <td>No</td>\n",
       "    </tr>\n",
       "    <tr>\n",
       "      <th>499689</th>\n",
       "      <td>1</td>\n",
       "      <td>1</td>\n",
       "      <td>2020-03-16</td>\n",
       "      <td>2020-03-13</td>\n",
       "      <td>Not Applicable</td>\n",
       "      <td>25</td>\n",
       "      <td>NaN</td>\n",
       "      <td>No</td>\n",
       "      <td>No</td>\n",
       "      <td>No</td>\n",
       "      <td>...</td>\n",
       "      <td>No</td>\n",
       "      <td>No</td>\n",
       "      <td>No</td>\n",
       "      <td>No</td>\n",
       "      <td>No</td>\n",
       "      <td>No</td>\n",
       "      <td>No</td>\n",
       "      <td>No</td>\n",
       "      <td>Negative</td>\n",
       "      <td>NaN</td>\n",
       "    </tr>\n",
       "    <tr>\n",
       "      <th>499690</th>\n",
       "      <td>1</td>\n",
       "      <td>1</td>\n",
       "      <td>2020-03-27</td>\n",
       "      <td>2020-03-25</td>\n",
       "      <td>Not Applicable</td>\n",
       "      <td>45</td>\n",
       "      <td>NaN</td>\n",
       "      <td>No</td>\n",
       "      <td>No</td>\n",
       "      <td>No</td>\n",
       "      <td>...</td>\n",
       "      <td>No</td>\n",
       "      <td>Yes</td>\n",
       "      <td>No</td>\n",
       "      <td>No</td>\n",
       "      <td>No</td>\n",
       "      <td>No</td>\n",
       "      <td>No</td>\n",
       "      <td>Yes</td>\n",
       "      <td>Negative</td>\n",
       "      <td>NaN</td>\n",
       "    </tr>\n",
       "    <tr>\n",
       "      <th>499691</th>\n",
       "      <td>1</td>\n",
       "      <td>1</td>\n",
       "      <td>2020-03-31</td>\n",
       "      <td>2020-03-23</td>\n",
       "      <td>Not Applicable</td>\n",
       "      <td>51</td>\n",
       "      <td>NaN</td>\n",
       "      <td>No</td>\n",
       "      <td>No</td>\n",
       "      <td>No</td>\n",
       "      <td>...</td>\n",
       "      <td>No</td>\n",
       "      <td>No</td>\n",
       "      <td>No</td>\n",
       "      <td>No</td>\n",
       "      <td>No</td>\n",
       "      <td>No</td>\n",
       "      <td>No</td>\n",
       "      <td>NaN</td>\n",
       "      <td>Negative</td>\n",
       "      <td>NaN</td>\n",
       "    </tr>\n",
       "  </tbody>\n",
       "</table>\n",
       "<p>499692 rows × 22 columns</p>\n",
       "</div>"
      ],
      "text/plain": [
       "        sex  patient_type entry_date date_symptoms       date_died  age  \\\n",
       "0         2             1 2020-04-05    2020-02-05  Not Applicable   27   \n",
       "1         2             1 2020-03-19    2020-03-17  Not Applicable   24   \n",
       "2         1             2 2020-06-04    2020-01-04  Not Applicable   54   \n",
       "3         2             2 2020-04-17    2020-10-04  Not Applicable   30   \n",
       "4         1             2 2020-04-13    2020-04-13      22-04-2020   60   \n",
       "...     ...           ...        ...           ...             ...  ...   \n",
       "499687    2             1 2020-03-26    2020-03-20  Not Applicable   77   \n",
       "499688    2             2 2020-03-28    2020-03-23  Not Applicable   63   \n",
       "499689    1             1 2020-03-16    2020-03-13  Not Applicable   25   \n",
       "499690    1             1 2020-03-27    2020-03-25  Not Applicable   45   \n",
       "499691    1             1 2020-03-31    2020-03-23  Not Applicable   51   \n",
       "\n",
       "       intubed pneumonia pregnancy diabetes  ... inmsupr hypertension  \\\n",
       "0          NaN        No       NaN       No  ...      No           No   \n",
       "1          NaN        No       NaN       No  ...      No           No   \n",
       "2           No        No        No       No  ...      No           No   \n",
       "3           No       Yes       NaN       No  ...      No           No   \n",
       "4           No        No        No      Yes  ...      No          Yes   \n",
       "...        ...       ...       ...      ...  ...     ...          ...   \n",
       "499687     NaN       Yes       NaN       No  ...      No           No   \n",
       "499688     Yes       Yes       NaN       No  ...      No          Yes   \n",
       "499689     NaN        No        No       No  ...      No           No   \n",
       "499690     NaN        No        No       No  ...      No          Yes   \n",
       "499691     NaN        No        No       No  ...      No           No   \n",
       "\n",
       "       other_disease cardiovascular obesity renal_chronic tobacco  \\\n",
       "0                 No             No      No            No      No   \n",
       "1                 No             No      No            No      No   \n",
       "2                 No             No     Yes            No      No   \n",
       "3                 No             No      No            No      No   \n",
       "4                 No            Yes      No            No      No   \n",
       "...              ...            ...     ...           ...     ...   \n",
       "499687           Yes             No      No            No     Yes   \n",
       "499688            No             No     Yes            No     Yes   \n",
       "499689            No             No      No            No      No   \n",
       "499690            No             No      No            No      No   \n",
       "499691            No             No      No            No      No   \n",
       "\n",
       "       contact_other_covid covid_res  icu  \n",
       "0                       No  Positive  NaN  \n",
       "1                      NaN  Positive  NaN  \n",
       "2                      NaN  Positive   No  \n",
       "3                      NaN  Positive   No  \n",
       "4                      NaN  Positive   No  \n",
       "...                    ...       ...  ...  \n",
       "499687                  No  Negative  NaN  \n",
       "499688                  No  Negative   No  \n",
       "499689                  No  Negative  NaN  \n",
       "499690                 Yes  Negative  NaN  \n",
       "499691                 NaN  Negative  NaN  \n",
       "\n",
       "[499692 rows x 22 columns]"
      ]
     },
     "execution_count": 1,
     "metadata": {},
     "output_type": "execute_result"
    }
   ],
   "source": [
    "import numpy as np\n",
    "import pandas as pd\n",
    "import seaborn as sns\n",
    "\n",
    "import matplotlib.pyplot as plt\n",
    "\n",
    "df=pd.read_csv(r'C:\\Users\\parth\\Desktop\\Data Mining and Knowledge Discovery\\Project/covid.csv')\n",
    "\n",
    "for i in df.columns:\n",
    "    if i in ['id','entry_date','date_symptoms','date_died','age']:\n",
    "        continue\n",
    "    else:\n",
    "        print('unique values in '+ i +' column- ',end=' ')\n",
    "        print(df[i].unique())\n",
    "\n",
    "date_cols=['entry_date','date_symptoms']\n",
    "for dates in date_cols:\n",
    "    df[dates]=pd.to_datetime(df[dates],infer_datetime_format=True)\n",
    "\n",
    "df1=df\n",
    "df['date_died'].replace('9999-99-99','Not Applicable',inplace=True)\n",
    "\n",
    "df=df[['sex', 'patient_type', 'entry_date', 'date_symptoms', 'date_died', 'age',\n",
    "       'intubed', 'pneumonia', 'pregnancy', 'diabetes', 'copd',\n",
    "       'asthma', 'inmsupr', 'hypertension', 'other_disease', 'cardiovascular',\n",
    "       'obesity', 'renal_chronic', 'tobacco', 'contact_other_covid',\n",
    "       'covid_res', 'icu']]\n",
    "\n",
    "df.iloc[:,6:]=df.iloc[:,6:].replace([97,98,99],np.nan)\n",
    "df.iloc[:,6:]=df.iloc[:,6:].replace(1,'Yes')\n",
    "df.iloc[:,6:]=df.iloc[:,6:].replace(2,'No')\n",
    "\n",
    "df.iloc[:,-2]=df.iloc[:,-2].replace('Yes','Positive')\n",
    "df.iloc[:,-2]=df.iloc[:,-2].replace('No','Negative')\n",
    "df.iloc[:,-2]=df.iloc[:,-2].replace(3,'Results awaited')\n",
    "\n",
    "df=df[df['covid_res']!='Results awaited']\n",
    "\n",
    "df"
   ]
  },
  {
   "cell_type": "code",
   "execution_count": 2,
   "metadata": {},
   "outputs": [
    {
     "data": {
      "text/html": [
       "<div>\n",
       "<style scoped>\n",
       "    .dataframe tbody tr th:only-of-type {\n",
       "        vertical-align: middle;\n",
       "    }\n",
       "\n",
       "    .dataframe tbody tr th {\n",
       "        vertical-align: top;\n",
       "    }\n",
       "\n",
       "    .dataframe thead th {\n",
       "        text-align: right;\n",
       "    }\n",
       "</style>\n",
       "<table border=\"1\" class=\"dataframe\">\n",
       "  <thead>\n",
       "    <tr style=\"text-align: right;\">\n",
       "      <th></th>\n",
       "      <th>sex</th>\n",
       "      <th>patient_type</th>\n",
       "      <th>entry_date</th>\n",
       "      <th>date_symptoms</th>\n",
       "      <th>date_died</th>\n",
       "      <th>age</th>\n",
       "      <th>intubed</th>\n",
       "      <th>pneumonia</th>\n",
       "      <th>pregnancy</th>\n",
       "      <th>diabetes</th>\n",
       "      <th>...</th>\n",
       "      <th>inmsupr</th>\n",
       "      <th>hypertension</th>\n",
       "      <th>other_disease</th>\n",
       "      <th>cardiovascular</th>\n",
       "      <th>obesity</th>\n",
       "      <th>renal_chronic</th>\n",
       "      <th>tobacco</th>\n",
       "      <th>contact_other_covid</th>\n",
       "      <th>covid_res</th>\n",
       "      <th>icu</th>\n",
       "    </tr>\n",
       "  </thead>\n",
       "  <tbody>\n",
       "    <tr>\n",
       "      <th>0</th>\n",
       "      <td>2</td>\n",
       "      <td>1</td>\n",
       "      <td>2020-04-05</td>\n",
       "      <td>2020-02-05</td>\n",
       "      <td>Not Applicable</td>\n",
       "      <td>27</td>\n",
       "      <td>NaN</td>\n",
       "      <td>No</td>\n",
       "      <td>NaN</td>\n",
       "      <td>No</td>\n",
       "      <td>...</td>\n",
       "      <td>No</td>\n",
       "      <td>No</td>\n",
       "      <td>No</td>\n",
       "      <td>No</td>\n",
       "      <td>No</td>\n",
       "      <td>No</td>\n",
       "      <td>No</td>\n",
       "      <td>No</td>\n",
       "      <td>Positive</td>\n",
       "      <td>NaN</td>\n",
       "    </tr>\n",
       "    <tr>\n",
       "      <th>1</th>\n",
       "      <td>2</td>\n",
       "      <td>1</td>\n",
       "      <td>2020-03-19</td>\n",
       "      <td>2020-03-17</td>\n",
       "      <td>Not Applicable</td>\n",
       "      <td>24</td>\n",
       "      <td>NaN</td>\n",
       "      <td>No</td>\n",
       "      <td>NaN</td>\n",
       "      <td>No</td>\n",
       "      <td>...</td>\n",
       "      <td>No</td>\n",
       "      <td>No</td>\n",
       "      <td>No</td>\n",
       "      <td>No</td>\n",
       "      <td>No</td>\n",
       "      <td>No</td>\n",
       "      <td>No</td>\n",
       "      <td>NaN</td>\n",
       "      <td>Positive</td>\n",
       "      <td>NaN</td>\n",
       "    </tr>\n",
       "    <tr>\n",
       "      <th>2</th>\n",
       "      <td>1</td>\n",
       "      <td>2</td>\n",
       "      <td>2020-06-04</td>\n",
       "      <td>2020-01-04</td>\n",
       "      <td>Not Applicable</td>\n",
       "      <td>54</td>\n",
       "      <td>No</td>\n",
       "      <td>No</td>\n",
       "      <td>No</td>\n",
       "      <td>No</td>\n",
       "      <td>...</td>\n",
       "      <td>No</td>\n",
       "      <td>No</td>\n",
       "      <td>No</td>\n",
       "      <td>No</td>\n",
       "      <td>Yes</td>\n",
       "      <td>No</td>\n",
       "      <td>No</td>\n",
       "      <td>NaN</td>\n",
       "      <td>Positive</td>\n",
       "      <td>No</td>\n",
       "    </tr>\n",
       "    <tr>\n",
       "      <th>3</th>\n",
       "      <td>2</td>\n",
       "      <td>2</td>\n",
       "      <td>2020-04-17</td>\n",
       "      <td>2020-10-04</td>\n",
       "      <td>Not Applicable</td>\n",
       "      <td>30</td>\n",
       "      <td>No</td>\n",
       "      <td>Yes</td>\n",
       "      <td>NaN</td>\n",
       "      <td>No</td>\n",
       "      <td>...</td>\n",
       "      <td>No</td>\n",
       "      <td>No</td>\n",
       "      <td>No</td>\n",
       "      <td>No</td>\n",
       "      <td>No</td>\n",
       "      <td>No</td>\n",
       "      <td>No</td>\n",
       "      <td>NaN</td>\n",
       "      <td>Positive</td>\n",
       "      <td>No</td>\n",
       "    </tr>\n",
       "    <tr>\n",
       "      <th>4</th>\n",
       "      <td>1</td>\n",
       "      <td>2</td>\n",
       "      <td>2020-04-13</td>\n",
       "      <td>2020-04-13</td>\n",
       "      <td>22-04-2020</td>\n",
       "      <td>60</td>\n",
       "      <td>No</td>\n",
       "      <td>No</td>\n",
       "      <td>No</td>\n",
       "      <td>Yes</td>\n",
       "      <td>...</td>\n",
       "      <td>No</td>\n",
       "      <td>Yes</td>\n",
       "      <td>No</td>\n",
       "      <td>Yes</td>\n",
       "      <td>No</td>\n",
       "      <td>No</td>\n",
       "      <td>No</td>\n",
       "      <td>NaN</td>\n",
       "      <td>Positive</td>\n",
       "      <td>No</td>\n",
       "    </tr>\n",
       "    <tr>\n",
       "      <th>...</th>\n",
       "      <td>...</td>\n",
       "      <td>...</td>\n",
       "      <td>...</td>\n",
       "      <td>...</td>\n",
       "      <td>...</td>\n",
       "      <td>...</td>\n",
       "      <td>...</td>\n",
       "      <td>...</td>\n",
       "      <td>...</td>\n",
       "      <td>...</td>\n",
       "      <td>...</td>\n",
       "      <td>...</td>\n",
       "      <td>...</td>\n",
       "      <td>...</td>\n",
       "      <td>...</td>\n",
       "      <td>...</td>\n",
       "      <td>...</td>\n",
       "      <td>...</td>\n",
       "      <td>...</td>\n",
       "      <td>...</td>\n",
       "      <td>...</td>\n",
       "    </tr>\n",
       "    <tr>\n",
       "      <th>499687</th>\n",
       "      <td>2</td>\n",
       "      <td>1</td>\n",
       "      <td>2020-03-26</td>\n",
       "      <td>2020-03-20</td>\n",
       "      <td>Not Applicable</td>\n",
       "      <td>77</td>\n",
       "      <td>NaN</td>\n",
       "      <td>Yes</td>\n",
       "      <td>NaN</td>\n",
       "      <td>No</td>\n",
       "      <td>...</td>\n",
       "      <td>No</td>\n",
       "      <td>No</td>\n",
       "      <td>Yes</td>\n",
       "      <td>No</td>\n",
       "      <td>No</td>\n",
       "      <td>No</td>\n",
       "      <td>Yes</td>\n",
       "      <td>No</td>\n",
       "      <td>Negative</td>\n",
       "      <td>NaN</td>\n",
       "    </tr>\n",
       "    <tr>\n",
       "      <th>499688</th>\n",
       "      <td>2</td>\n",
       "      <td>2</td>\n",
       "      <td>2020-03-28</td>\n",
       "      <td>2020-03-23</td>\n",
       "      <td>Not Applicable</td>\n",
       "      <td>63</td>\n",
       "      <td>Yes</td>\n",
       "      <td>Yes</td>\n",
       "      <td>NaN</td>\n",
       "      <td>No</td>\n",
       "      <td>...</td>\n",
       "      <td>No</td>\n",
       "      <td>Yes</td>\n",
       "      <td>No</td>\n",
       "      <td>No</td>\n",
       "      <td>Yes</td>\n",
       "      <td>No</td>\n",
       "      <td>Yes</td>\n",
       "      <td>No</td>\n",
       "      <td>Negative</td>\n",
       "      <td>No</td>\n",
       "    </tr>\n",
       "    <tr>\n",
       "      <th>499689</th>\n",
       "      <td>1</td>\n",
       "      <td>1</td>\n",
       "      <td>2020-03-16</td>\n",
       "      <td>2020-03-13</td>\n",
       "      <td>Not Applicable</td>\n",
       "      <td>25</td>\n",
       "      <td>NaN</td>\n",
       "      <td>No</td>\n",
       "      <td>No</td>\n",
       "      <td>No</td>\n",
       "      <td>...</td>\n",
       "      <td>No</td>\n",
       "      <td>No</td>\n",
       "      <td>No</td>\n",
       "      <td>No</td>\n",
       "      <td>No</td>\n",
       "      <td>No</td>\n",
       "      <td>No</td>\n",
       "      <td>No</td>\n",
       "      <td>Negative</td>\n",
       "      <td>NaN</td>\n",
       "    </tr>\n",
       "    <tr>\n",
       "      <th>499690</th>\n",
       "      <td>1</td>\n",
       "      <td>1</td>\n",
       "      <td>2020-03-27</td>\n",
       "      <td>2020-03-25</td>\n",
       "      <td>Not Applicable</td>\n",
       "      <td>45</td>\n",
       "      <td>NaN</td>\n",
       "      <td>No</td>\n",
       "      <td>No</td>\n",
       "      <td>No</td>\n",
       "      <td>...</td>\n",
       "      <td>No</td>\n",
       "      <td>Yes</td>\n",
       "      <td>No</td>\n",
       "      <td>No</td>\n",
       "      <td>No</td>\n",
       "      <td>No</td>\n",
       "      <td>No</td>\n",
       "      <td>Yes</td>\n",
       "      <td>Negative</td>\n",
       "      <td>NaN</td>\n",
       "    </tr>\n",
       "    <tr>\n",
       "      <th>499691</th>\n",
       "      <td>1</td>\n",
       "      <td>1</td>\n",
       "      <td>2020-03-31</td>\n",
       "      <td>2020-03-23</td>\n",
       "      <td>Not Applicable</td>\n",
       "      <td>51</td>\n",
       "      <td>NaN</td>\n",
       "      <td>No</td>\n",
       "      <td>No</td>\n",
       "      <td>No</td>\n",
       "      <td>...</td>\n",
       "      <td>No</td>\n",
       "      <td>No</td>\n",
       "      <td>No</td>\n",
       "      <td>No</td>\n",
       "      <td>No</td>\n",
       "      <td>No</td>\n",
       "      <td>No</td>\n",
       "      <td>NaN</td>\n",
       "      <td>Negative</td>\n",
       "      <td>NaN</td>\n",
       "    </tr>\n",
       "  </tbody>\n",
       "</table>\n",
       "<p>499692 rows × 22 columns</p>\n",
       "</div>"
      ],
      "text/plain": [
       "        sex  patient_type entry_date date_symptoms       date_died  age  \\\n",
       "0         2             1 2020-04-05    2020-02-05  Not Applicable   27   \n",
       "1         2             1 2020-03-19    2020-03-17  Not Applicable   24   \n",
       "2         1             2 2020-06-04    2020-01-04  Not Applicable   54   \n",
       "3         2             2 2020-04-17    2020-10-04  Not Applicable   30   \n",
       "4         1             2 2020-04-13    2020-04-13      22-04-2020   60   \n",
       "...     ...           ...        ...           ...             ...  ...   \n",
       "499687    2             1 2020-03-26    2020-03-20  Not Applicable   77   \n",
       "499688    2             2 2020-03-28    2020-03-23  Not Applicable   63   \n",
       "499689    1             1 2020-03-16    2020-03-13  Not Applicable   25   \n",
       "499690    1             1 2020-03-27    2020-03-25  Not Applicable   45   \n",
       "499691    1             1 2020-03-31    2020-03-23  Not Applicable   51   \n",
       "\n",
       "       intubed pneumonia pregnancy diabetes  ... inmsupr hypertension  \\\n",
       "0          NaN        No       NaN       No  ...      No           No   \n",
       "1          NaN        No       NaN       No  ...      No           No   \n",
       "2           No        No        No       No  ...      No           No   \n",
       "3           No       Yes       NaN       No  ...      No           No   \n",
       "4           No        No        No      Yes  ...      No          Yes   \n",
       "...        ...       ...       ...      ...  ...     ...          ...   \n",
       "499687     NaN       Yes       NaN       No  ...      No           No   \n",
       "499688     Yes       Yes       NaN       No  ...      No          Yes   \n",
       "499689     NaN        No        No       No  ...      No           No   \n",
       "499690     NaN        No        No       No  ...      No          Yes   \n",
       "499691     NaN        No        No       No  ...      No           No   \n",
       "\n",
       "       other_disease cardiovascular obesity renal_chronic tobacco  \\\n",
       "0                 No             No      No            No      No   \n",
       "1                 No             No      No            No      No   \n",
       "2                 No             No     Yes            No      No   \n",
       "3                 No             No      No            No      No   \n",
       "4                 No            Yes      No            No      No   \n",
       "...              ...            ...     ...           ...     ...   \n",
       "499687           Yes             No      No            No     Yes   \n",
       "499688            No             No     Yes            No     Yes   \n",
       "499689            No             No      No            No      No   \n",
       "499690            No             No      No            No      No   \n",
       "499691            No             No      No            No      No   \n",
       "\n",
       "       contact_other_covid covid_res  icu  \n",
       "0                       No  Positive  NaN  \n",
       "1                      NaN  Positive  NaN  \n",
       "2                      NaN  Positive   No  \n",
       "3                      NaN  Positive   No  \n",
       "4                      NaN  Positive   No  \n",
       "...                    ...       ...  ...  \n",
       "499687                  No  Negative  NaN  \n",
       "499688                  No  Negative   No  \n",
       "499689                  No  Negative  NaN  \n",
       "499690                 Yes  Negative  NaN  \n",
       "499691                 NaN  Negative  NaN  \n",
       "\n",
       "[499692 rows x 22 columns]"
      ]
     },
     "execution_count": 2,
     "metadata": {},
     "output_type": "execute_result"
    }
   ],
   "source": [
    "df"
   ]
  },
  {
   "cell_type": "code",
   "execution_count": 3,
   "metadata": {},
   "outputs": [
    {
     "data": {
      "text/plain": [
       "Index(['sex', 'patient_type', 'entry_date', 'date_symptoms', 'date_died',\n",
       "       'age', 'intubed', 'pneumonia', 'pregnancy', 'diabetes', 'copd',\n",
       "       'asthma', 'inmsupr', 'hypertension', 'other_disease', 'cardiovascular',\n",
       "       'obesity', 'renal_chronic', 'tobacco', 'contact_other_covid',\n",
       "       'covid_res', 'icu'],\n",
       "      dtype='object')"
      ]
     },
     "execution_count": 3,
     "metadata": {},
     "output_type": "execute_result"
    }
   ],
   "source": [
    "df.columns"
   ]
  },
  {
   "cell_type": "markdown",
   "metadata": {},
   "source": [
    "Dropping date_died column as no relation with predicting covid positive.\n",
    "\n",
    "Columns- pregnancy, intubed, contct_other_covid have more than 50% null values so dropping\n"
   ]
  },
  {
   "cell_type": "code",
   "execution_count": 4,
   "metadata": {},
   "outputs": [],
   "source": [
    "df=df.drop(columns=['date_died','pregnancy','contact_other_covid','intubed','icu'])"
   ]
  },
  {
   "cell_type": "markdown",
   "metadata": {},
   "source": [
    "### Feature Extraction from date-symptom and entry_date"
   ]
  },
  {
   "cell_type": "code",
   "execution_count": 5,
   "metadata": {},
   "outputs": [],
   "source": [
    "df['delta']=abs(df['entry_date']-df['date_symptoms'])"
   ]
  },
  {
   "cell_type": "code",
   "execution_count": 6,
   "metadata": {},
   "outputs": [
    {
     "data": {
      "text/plain": [
       "Timedelta('2 days 00:00:00')"
      ]
     },
     "execution_count": 6,
     "metadata": {},
     "output_type": "execute_result"
    }
   ],
   "source": [
    "df.loc[1,'delta']"
   ]
  },
  {
   "cell_type": "code",
   "execution_count": 7,
   "metadata": {},
   "outputs": [],
   "source": [
    "df['delta'] = df['delta'].dt.days.astype('int16')  #Converting Timedelta type to integer days"
   ]
  },
  {
   "cell_type": "code",
   "execution_count": 8,
   "metadata": {},
   "outputs": [
    {
     "data": {
      "text/plain": [
       "0          60\n",
       "1           2\n",
       "2         152\n",
       "3         170\n",
       "4           0\n",
       "         ... \n",
       "499687      6\n",
       "499688      5\n",
       "499689      3\n",
       "499690      2\n",
       "499691      8\n",
       "Name: delta, Length: 499692, dtype: int16"
      ]
     },
     "execution_count": 8,
     "metadata": {},
     "output_type": "execute_result"
    }
   ],
   "source": [
    "df['delta']"
   ]
  },
  {
   "cell_type": "markdown",
   "metadata": {},
   "source": [
    "Dropping columns entry_date and date_symptoms"
   ]
  },
  {
   "cell_type": "code",
   "execution_count": 9,
   "metadata": {},
   "outputs": [],
   "source": [
    "df=df.drop(columns=['entry_date','date_symptoms'])"
   ]
  },
  {
   "cell_type": "code",
   "execution_count": 10,
   "metadata": {},
   "outputs": [
    {
     "data": {
      "text/plain": [
       "Index(['sex', 'patient_type', 'age', 'pneumonia', 'diabetes', 'copd', 'asthma',\n",
       "       'inmsupr', 'hypertension', 'other_disease', 'cardiovascular', 'obesity',\n",
       "       'renal_chronic', 'tobacco', 'covid_res', 'delta'],\n",
       "      dtype='object')"
      ]
     },
     "execution_count": 10,
     "metadata": {},
     "output_type": "execute_result"
    }
   ],
   "source": [
    "df.columns"
   ]
  },
  {
   "cell_type": "code",
   "execution_count": 11,
   "metadata": {},
   "outputs": [
    {
     "data": {
      "text/plain": [
       "499692"
      ]
     },
     "execution_count": 11,
     "metadata": {},
     "output_type": "execute_result"
    }
   ],
   "source": [
    "len(df)"
   ]
  },
  {
   "cell_type": "markdown",
   "metadata": {},
   "source": [
    "There are few Null values present in columns that are categorical variables so we will drop Null values"
   ]
  },
  {
   "cell_type": "code",
   "execution_count": 12,
   "metadata": {},
   "outputs": [],
   "source": [
    "df=df.dropna()"
   ]
  },
  {
   "cell_type": "code",
   "execution_count": 13,
   "metadata": {},
   "outputs": [
    {
     "data": {
      "text/plain": [
       "496291"
      ]
     },
     "execution_count": 13,
     "metadata": {},
     "output_type": "execute_result"
    }
   ],
   "source": [
    "len(df)"
   ]
  },
  {
   "cell_type": "code",
   "execution_count": 14,
   "metadata": {},
   "outputs": [
    {
     "data": {
      "text/html": [
       "<div>\n",
       "<style scoped>\n",
       "    .dataframe tbody tr th:only-of-type {\n",
       "        vertical-align: middle;\n",
       "    }\n",
       "\n",
       "    .dataframe tbody tr th {\n",
       "        vertical-align: top;\n",
       "    }\n",
       "\n",
       "    .dataframe thead th {\n",
       "        text-align: right;\n",
       "    }\n",
       "</style>\n",
       "<table border=\"1\" class=\"dataframe\">\n",
       "  <thead>\n",
       "    <tr style=\"text-align: right;\">\n",
       "      <th></th>\n",
       "      <th>sex</th>\n",
       "      <th>patient_type</th>\n",
       "      <th>age</th>\n",
       "      <th>pneumonia</th>\n",
       "      <th>diabetes</th>\n",
       "      <th>copd</th>\n",
       "      <th>asthma</th>\n",
       "      <th>inmsupr</th>\n",
       "      <th>hypertension</th>\n",
       "      <th>other_disease</th>\n",
       "      <th>cardiovascular</th>\n",
       "      <th>obesity</th>\n",
       "      <th>renal_chronic</th>\n",
       "      <th>tobacco</th>\n",
       "      <th>covid_res</th>\n",
       "      <th>delta</th>\n",
       "    </tr>\n",
       "  </thead>\n",
       "  <tbody>\n",
       "    <tr>\n",
       "      <th>0</th>\n",
       "      <td>2</td>\n",
       "      <td>1</td>\n",
       "      <td>27</td>\n",
       "      <td>No</td>\n",
       "      <td>No</td>\n",
       "      <td>No</td>\n",
       "      <td>No</td>\n",
       "      <td>No</td>\n",
       "      <td>No</td>\n",
       "      <td>No</td>\n",
       "      <td>No</td>\n",
       "      <td>No</td>\n",
       "      <td>No</td>\n",
       "      <td>No</td>\n",
       "      <td>Positive</td>\n",
       "      <td>60</td>\n",
       "    </tr>\n",
       "    <tr>\n",
       "      <th>1</th>\n",
       "      <td>2</td>\n",
       "      <td>1</td>\n",
       "      <td>24</td>\n",
       "      <td>No</td>\n",
       "      <td>No</td>\n",
       "      <td>No</td>\n",
       "      <td>No</td>\n",
       "      <td>No</td>\n",
       "      <td>No</td>\n",
       "      <td>No</td>\n",
       "      <td>No</td>\n",
       "      <td>No</td>\n",
       "      <td>No</td>\n",
       "      <td>No</td>\n",
       "      <td>Positive</td>\n",
       "      <td>2</td>\n",
       "    </tr>\n",
       "    <tr>\n",
       "      <th>2</th>\n",
       "      <td>1</td>\n",
       "      <td>2</td>\n",
       "      <td>54</td>\n",
       "      <td>No</td>\n",
       "      <td>No</td>\n",
       "      <td>No</td>\n",
       "      <td>No</td>\n",
       "      <td>No</td>\n",
       "      <td>No</td>\n",
       "      <td>No</td>\n",
       "      <td>No</td>\n",
       "      <td>Yes</td>\n",
       "      <td>No</td>\n",
       "      <td>No</td>\n",
       "      <td>Positive</td>\n",
       "      <td>152</td>\n",
       "    </tr>\n",
       "    <tr>\n",
       "      <th>3</th>\n",
       "      <td>2</td>\n",
       "      <td>2</td>\n",
       "      <td>30</td>\n",
       "      <td>Yes</td>\n",
       "      <td>No</td>\n",
       "      <td>No</td>\n",
       "      <td>No</td>\n",
       "      <td>No</td>\n",
       "      <td>No</td>\n",
       "      <td>No</td>\n",
       "      <td>No</td>\n",
       "      <td>No</td>\n",
       "      <td>No</td>\n",
       "      <td>No</td>\n",
       "      <td>Positive</td>\n",
       "      <td>170</td>\n",
       "    </tr>\n",
       "    <tr>\n",
       "      <th>4</th>\n",
       "      <td>1</td>\n",
       "      <td>2</td>\n",
       "      <td>60</td>\n",
       "      <td>No</td>\n",
       "      <td>Yes</td>\n",
       "      <td>No</td>\n",
       "      <td>No</td>\n",
       "      <td>No</td>\n",
       "      <td>Yes</td>\n",
       "      <td>No</td>\n",
       "      <td>Yes</td>\n",
       "      <td>No</td>\n",
       "      <td>No</td>\n",
       "      <td>No</td>\n",
       "      <td>Positive</td>\n",
       "      <td>0</td>\n",
       "    </tr>\n",
       "    <tr>\n",
       "      <th>...</th>\n",
       "      <td>...</td>\n",
       "      <td>...</td>\n",
       "      <td>...</td>\n",
       "      <td>...</td>\n",
       "      <td>...</td>\n",
       "      <td>...</td>\n",
       "      <td>...</td>\n",
       "      <td>...</td>\n",
       "      <td>...</td>\n",
       "      <td>...</td>\n",
       "      <td>...</td>\n",
       "      <td>...</td>\n",
       "      <td>...</td>\n",
       "      <td>...</td>\n",
       "      <td>...</td>\n",
       "      <td>...</td>\n",
       "    </tr>\n",
       "    <tr>\n",
       "      <th>499687</th>\n",
       "      <td>2</td>\n",
       "      <td>1</td>\n",
       "      <td>77</td>\n",
       "      <td>Yes</td>\n",
       "      <td>No</td>\n",
       "      <td>No</td>\n",
       "      <td>No</td>\n",
       "      <td>No</td>\n",
       "      <td>No</td>\n",
       "      <td>Yes</td>\n",
       "      <td>No</td>\n",
       "      <td>No</td>\n",
       "      <td>No</td>\n",
       "      <td>Yes</td>\n",
       "      <td>Negative</td>\n",
       "      <td>6</td>\n",
       "    </tr>\n",
       "    <tr>\n",
       "      <th>499688</th>\n",
       "      <td>2</td>\n",
       "      <td>2</td>\n",
       "      <td>63</td>\n",
       "      <td>Yes</td>\n",
       "      <td>No</td>\n",
       "      <td>No</td>\n",
       "      <td>No</td>\n",
       "      <td>No</td>\n",
       "      <td>Yes</td>\n",
       "      <td>No</td>\n",
       "      <td>No</td>\n",
       "      <td>Yes</td>\n",
       "      <td>No</td>\n",
       "      <td>Yes</td>\n",
       "      <td>Negative</td>\n",
       "      <td>5</td>\n",
       "    </tr>\n",
       "    <tr>\n",
       "      <th>499689</th>\n",
       "      <td>1</td>\n",
       "      <td>1</td>\n",
       "      <td>25</td>\n",
       "      <td>No</td>\n",
       "      <td>No</td>\n",
       "      <td>No</td>\n",
       "      <td>No</td>\n",
       "      <td>No</td>\n",
       "      <td>No</td>\n",
       "      <td>No</td>\n",
       "      <td>No</td>\n",
       "      <td>No</td>\n",
       "      <td>No</td>\n",
       "      <td>No</td>\n",
       "      <td>Negative</td>\n",
       "      <td>3</td>\n",
       "    </tr>\n",
       "    <tr>\n",
       "      <th>499690</th>\n",
       "      <td>1</td>\n",
       "      <td>1</td>\n",
       "      <td>45</td>\n",
       "      <td>No</td>\n",
       "      <td>No</td>\n",
       "      <td>No</td>\n",
       "      <td>No</td>\n",
       "      <td>No</td>\n",
       "      <td>Yes</td>\n",
       "      <td>No</td>\n",
       "      <td>No</td>\n",
       "      <td>No</td>\n",
       "      <td>No</td>\n",
       "      <td>No</td>\n",
       "      <td>Negative</td>\n",
       "      <td>2</td>\n",
       "    </tr>\n",
       "    <tr>\n",
       "      <th>499691</th>\n",
       "      <td>1</td>\n",
       "      <td>1</td>\n",
       "      <td>51</td>\n",
       "      <td>No</td>\n",
       "      <td>No</td>\n",
       "      <td>No</td>\n",
       "      <td>No</td>\n",
       "      <td>No</td>\n",
       "      <td>No</td>\n",
       "      <td>No</td>\n",
       "      <td>No</td>\n",
       "      <td>No</td>\n",
       "      <td>No</td>\n",
       "      <td>No</td>\n",
       "      <td>Negative</td>\n",
       "      <td>8</td>\n",
       "    </tr>\n",
       "  </tbody>\n",
       "</table>\n",
       "<p>496291 rows × 16 columns</p>\n",
       "</div>"
      ],
      "text/plain": [
       "        sex  patient_type  age pneumonia diabetes copd asthma inmsupr  \\\n",
       "0         2             1   27        No       No   No     No      No   \n",
       "1         2             1   24        No       No   No     No      No   \n",
       "2         1             2   54        No       No   No     No      No   \n",
       "3         2             2   30       Yes       No   No     No      No   \n",
       "4         1             2   60        No      Yes   No     No      No   \n",
       "...     ...           ...  ...       ...      ...  ...    ...     ...   \n",
       "499687    2             1   77       Yes       No   No     No      No   \n",
       "499688    2             2   63       Yes       No   No     No      No   \n",
       "499689    1             1   25        No       No   No     No      No   \n",
       "499690    1             1   45        No       No   No     No      No   \n",
       "499691    1             1   51        No       No   No     No      No   \n",
       "\n",
       "       hypertension other_disease cardiovascular obesity renal_chronic  \\\n",
       "0                No            No             No      No            No   \n",
       "1                No            No             No      No            No   \n",
       "2                No            No             No     Yes            No   \n",
       "3                No            No             No      No            No   \n",
       "4               Yes            No            Yes      No            No   \n",
       "...             ...           ...            ...     ...           ...   \n",
       "499687           No           Yes             No      No            No   \n",
       "499688          Yes            No             No     Yes            No   \n",
       "499689           No            No             No      No            No   \n",
       "499690          Yes            No             No      No            No   \n",
       "499691           No            No             No      No            No   \n",
       "\n",
       "       tobacco covid_res  delta  \n",
       "0           No  Positive     60  \n",
       "1           No  Positive      2  \n",
       "2           No  Positive    152  \n",
       "3           No  Positive    170  \n",
       "4           No  Positive      0  \n",
       "...        ...       ...    ...  \n",
       "499687     Yes  Negative      6  \n",
       "499688     Yes  Negative      5  \n",
       "499689      No  Negative      3  \n",
       "499690      No  Negative      2  \n",
       "499691      No  Negative      8  \n",
       "\n",
       "[496291 rows x 16 columns]"
      ]
     },
     "execution_count": 14,
     "metadata": {},
     "output_type": "execute_result"
    }
   ],
   "source": [
    "df"
   ]
  },
  {
   "cell_type": "code",
   "execution_count": 15,
   "metadata": {},
   "outputs": [],
   "source": [
    "from sklearn.preprocessing import OrdinalEncoder\n",
    "oe = OrdinalEncoder()"
   ]
  },
  {
   "cell_type": "code",
   "execution_count": 16,
   "metadata": {},
   "outputs": [],
   "source": [
    "X_=df[['sex', 'patient_type', 'pneumonia', 'diabetes', 'copd', 'asthma',\n",
    "       'inmsupr', 'hypertension', 'other_disease', 'cardiovascular', 'obesity',\n",
    "       'renal_chronic', 'tobacco']]"
   ]
  },
  {
   "cell_type": "code",
   "execution_count": 17,
   "metadata": {},
   "outputs": [],
   "source": [
    "oe.fit(X_)\n",
    "X_=oe.transform(X_)"
   ]
  },
  {
   "cell_type": "code",
   "execution_count": 18,
   "metadata": {},
   "outputs": [
    {
     "data": {
      "text/plain": [
       "array([[1., 0., 0., ..., 0., 0., 0.],\n",
       "       [1., 0., 0., ..., 0., 0., 0.],\n",
       "       [0., 1., 0., ..., 1., 0., 0.],\n",
       "       ...,\n",
       "       [0., 0., 0., ..., 0., 0., 0.],\n",
       "       [0., 0., 0., ..., 0., 0., 0.],\n",
       "       [0., 0., 0., ..., 0., 0., 0.]])"
      ]
     },
     "execution_count": 18,
     "metadata": {},
     "output_type": "execute_result"
    }
   ],
   "source": [
    "X_"
   ]
  },
  {
   "cell_type": "code",
   "execution_count": 19,
   "metadata": {},
   "outputs": [
    {
     "data": {
      "text/plain": [
       "array([[ 60,  27],\n",
       "       [  2,  24],\n",
       "       [152,  54],\n",
       "       ...,\n",
       "       [  3,  25],\n",
       "       [  2,  45],\n",
       "       [  8,  51]], dtype=int64)"
      ]
     },
     "execution_count": 19,
     "metadata": {},
     "output_type": "execute_result"
    }
   ],
   "source": [
    "import numpy as np\n",
    "arr=np.array(df[['delta','age']])\n",
    "arr"
   ]
  },
  {
   "cell_type": "code",
   "execution_count": 20,
   "metadata": {},
   "outputs": [],
   "source": [
    "arr_=arr.reshape(496291,2)"
   ]
  },
  {
   "cell_type": "code",
   "execution_count": 21,
   "metadata": {},
   "outputs": [],
   "source": [
    "X=np.append(arr_,X_,axis=1)"
   ]
  },
  {
   "cell_type": "code",
   "execution_count": 22,
   "metadata": {},
   "outputs": [
    {
     "data": {
      "text/plain": [
       "array([[1.],\n",
       "       [1.],\n",
       "       [1.],\n",
       "       ...,\n",
       "       [0.],\n",
       "       [0.],\n",
       "       [0.]])"
      ]
     },
     "execution_count": 22,
     "metadata": {},
     "output_type": "execute_result"
    }
   ],
   "source": [
    "y=np.array(df['covid_res'])\n",
    "y=y.reshape(-1,1)\n",
    "oe.fit(y)\n",
    "y=oe.transform(y)\n",
    "# y.reshape(496291,1)\n",
    "y"
   ]
  },
  {
   "cell_type": "code",
   "execution_count": 31,
   "metadata": {},
   "outputs": [
    {
     "data": {
      "text/plain": [
       "array([[ 60.,  27.,   1., ...,   0.,   0.,   0.],\n",
       "       [  2.,  24.,   1., ...,   0.,   0.,   0.],\n",
       "       [152.,  54.,   0., ...,   1.,   0.,   0.],\n",
       "       ...,\n",
       "       [  3.,  25.,   0., ...,   0.,   0.,   0.],\n",
       "       [  2.,  45.,   0., ...,   0.,   0.,   0.],\n",
       "       [  8.,  51.,   0., ...,   0.,   0.,   0.]])"
      ]
     },
     "execution_count": 31,
     "metadata": {},
     "output_type": "execute_result"
    }
   ],
   "source": [
    "X"
   ]
  },
  {
   "cell_type": "markdown",
   "metadata": {},
   "source": [
    "## Standard Scaler"
   ]
  },
  {
   "cell_type": "code",
   "execution_count": 33,
   "metadata": {},
   "outputs": [],
   "source": [
    "from sklearn.preprocessing import StandardScaler\n",
    "scaler = StandardScaler()\n",
    "scaler.fit(X)\n",
    "X=scaler.transform(X)"
   ]
  },
  {
   "cell_type": "code",
   "execution_count": 54,
   "metadata": {},
   "outputs": [],
   "source": [
    "from sklearn.model_selection import train_test_split\n",
    "#Split into train and test set\n",
    "X_train, X_test, y_train, y_test = train_test_split(X, y, test_size=0.33, random_state=420)"
   ]
  },
  {
   "cell_type": "markdown",
   "metadata": {},
   "source": [
    "### Function returns optimized threshold probability"
   ]
  },
  {
   "cell_type": "code",
   "execution_count": 105,
   "metadata": {},
   "outputs": [],
   "source": [
    "from sklearn.metrics import f1_score\n",
    "from sklearn.metrics import accuracy_score\n",
    "def opt(y_train,y_train_pred):\n",
    "    f1=0\n",
    "    thres=10\n",
    "    for threshold in range(5,90):\n",
    "        thr=threshold/100\n",
    "        pred_bool = ((y_train_pred)>thr)\n",
    "        y=np.multiply(pred_bool, 1)\n",
    "        m=recall_score(y_train,y)*accuracy_score(y_train,y)\n",
    "        if m>f1:\n",
    "            thres=thr\n",
    "            f1=m\n",
    "#             print(1)\n",
    "    pred_bool = ((y_train_pred)>thres)\n",
    "    y=np.multiply(pred_bool, 1)\n",
    "    print('Threshold: ',thres,'Recall: ',recall_score(y_train,y))\n",
    "    return y"
   ]
  },
  {
   "cell_type": "markdown",
   "metadata": {},
   "source": [
    "## Decision Tree"
   ]
  },
  {
   "cell_type": "code",
   "execution_count": 95,
   "metadata": {},
   "outputs": [],
   "source": [
    "from sklearn import tree\n",
    "clf = tree.DecisionTreeClassifier()\n",
    "clf = clf.fit(X_train, y_train)"
   ]
  },
  {
   "cell_type": "code",
   "execution_count": 106,
   "metadata": {},
   "outputs": [
    {
     "name": "stdout",
     "output_type": "stream",
     "text": [
      "Threshold:  0.05 Recall:  0.5954922085450267\n",
      "Train Accuracy: 0.2626054842803611\n"
     ]
    }
   ],
   "source": [
    "from sklearn.metrics import accuracy_score\n",
    "y_pred = clf.predict_proba(X_test)\n",
    "y_train_pred=clf.predict_proba(X_train)\n",
    "y_train_pred=y_train_pred[:,0]\n",
    "y_train_pred=opt(y_train,y_train_pred)\n",
    "print(\"Train Accuracy:\",accuracy_score(y_train, y_train_pred))"
   ]
  },
  {
   "cell_type": "code",
   "execution_count": 110,
   "metadata": {},
   "outputs": [],
   "source": [
    "pred_bool = ((y_pred)>0.05)\n",
    "y_pred=np.multiply(pred_bool, 1)[:,0]"
   ]
  },
  {
   "cell_type": "code",
   "execution_count": 113,
   "metadata": {},
   "outputs": [
    {
     "name": "stdout",
     "output_type": "stream",
     "text": [
      "Recall:  0.7381239016425201\n",
      "Precision:  0.40373596930086814\n",
      "F1 score:  0.5219680216059651\n",
      "Test Accuracy: 0.40343271643759504\n"
     ]
    }
   ],
   "source": [
    "from sklearn.metrics import recall_score\n",
    "from sklearn.metrics import precision_score\n",
    "from sklearn.metrics import f1_score\n",
    "print('Recall: ',recall_score(y_test,y_pred))\n",
    "print('Precision: ',precision_score(y_test,y_pred))\n",
    "print('F1 score: ',f1_score(y_test,y_pred))\n",
    "print(\"Test Accuracy:\",accuracy_score(y_test, y_pred))"
   ]
  },
  {
   "cell_type": "code",
   "execution_count": null,
   "metadata": {},
   "outputs": [],
   "source": []
  },
  {
   "cell_type": "markdown",
   "metadata": {},
   "source": [
    "## Decision tree without using threshold probability function"
   ]
  },
  {
   "cell_type": "code",
   "execution_count": 37,
   "metadata": {},
   "outputs": [
    {
     "name": "stdout",
     "output_type": "stream",
     "text": [
      "Test Accuracy: 0.6014763977847928\n",
      "Train Accuracy: 0.7741628923894934\n"
     ]
    }
   ],
   "source": [
    "# Model Accuracy, how often is the classifier correct?\n",
    "from sklearn.metrics import accuracy_score\n",
    "print(\"Test Accuracy:\",accuracy_score(y_test, y_pred))\n",
    "print(\"Train Accuracy:\",accuracy_score(y_train, y_train_pred))"
   ]
  },
  {
   "cell_type": "code",
   "execution_count": 38,
   "metadata": {},
   "outputs": [
    {
     "data": {
      "text/plain": [
       "array([[70576, 20934],\n",
       "       [44335, 27932]], dtype=int64)"
      ]
     },
     "execution_count": 38,
     "metadata": {},
     "output_type": "execute_result"
    }
   ],
   "source": [
    "from sklearn.metrics import confusion_matrix\n",
    "confusion_matrix(y_test, y_pred)"
   ]
  },
  {
   "cell_type": "code",
   "execution_count": 39,
   "metadata": {},
   "outputs": [
    {
     "name": "stdout",
     "output_type": "stream",
     "text": [
      "Recall:  0.3865111323287254\n",
      "Precision:  0.5716039782261695\n",
      "F1 score:  0.4611790346148449\n"
     ]
    }
   ],
   "source": [
    "from sklearn.metrics import recall_score\n",
    "from sklearn.metrics import precision_score\n",
    "from sklearn.metrics import f1_score\n",
    "print('Recall: ',recall_score(y_test,y_pred))\n",
    "print('Precision: ',precision_score(y_test,y_pred))\n",
    "print('F1 score: ',f1_score(y_test,y_pred))"
   ]
  },
  {
   "cell_type": "markdown",
   "metadata": {},
   "source": [
    "## Decision Forest"
   ]
  },
  {
   "cell_type": "code",
   "execution_count": 114,
   "metadata": {},
   "outputs": [
    {
     "name": "stderr",
     "output_type": "stream",
     "text": [
      "C:\\Users\\parth\\anaconda3\\lib\\site-packages\\ipykernel_launcher.py:3: DataConversionWarning: A column-vector y was passed when a 1d array was expected. Please change the shape of y to (n_samples,), for example using ravel().\n",
      "  This is separate from the ipykernel package so we can avoid doing imports until\n"
     ]
    },
    {
     "name": "stdout",
     "output_type": "stream",
     "text": [
      "Threshold:  0.05 Recall:  0.8667234971186961\n",
      "Train Accuracy: 0.3822184930559315\n"
     ]
    }
   ],
   "source": [
    "from sklearn.ensemble import RandomForestClassifier\n",
    "clf = RandomForestClassifier()\n",
    "clf = clf.fit(X_train, y_train)\n",
    "y_pred = clf.predict_proba(X_test)\n",
    "y_train_pred=clf.predict_proba(X_train)\n",
    "y_train_pred=y_train_pred[:,0]\n",
    "y_train_pred=opt(y_train,y_train_pred)\n",
    "print(\"Train Accuracy:\",accuracy_score(y_train, y_train_pred))"
   ]
  },
  {
   "cell_type": "code",
   "execution_count": 115,
   "metadata": {},
   "outputs": [
    {
     "name": "stdout",
     "output_type": "stream",
     "text": [
      "Recall:  0.9343822214842182\n",
      "Precision:  0.43003802039217687\n",
      "F1 score:  0.5889972436411849\n",
      "Test Accuracy: 0.42459563919231635\n"
     ]
    }
   ],
   "source": [
    "pred_bool = ((y_pred)>0.05)\n",
    "y_pred=np.multiply(pred_bool, 1)[:,0]\n",
    "print('Recall: ',recall_score(y_test,y_pred))\n",
    "print('Precision: ',precision_score(y_test,y_pred))\n",
    "print('F1 score: ',f1_score(y_test,y_pred))\n",
    "print(\"Test Accuracy:\",accuracy_score(y_test, y_pred))"
   ]
  },
  {
   "cell_type": "markdown",
   "metadata": {},
   "source": [
    "## Decision Forest without using threshold probability function"
   ]
  },
  {
   "cell_type": "code",
   "execution_count": 40,
   "metadata": {},
   "outputs": [
    {
     "name": "stderr",
     "output_type": "stream",
     "text": [
      "C:\\Users\\parth\\anaconda3\\lib\\site-packages\\ipykernel_launcher.py:3: DataConversionWarning: A column-vector y was passed when a 1d array was expected. Please change the shape of y to (n_samples,), for example using ravel().\n",
      "  This is separate from the ipykernel package so we can avoid doing imports until\n"
     ]
    },
    {
     "name": "stdout",
     "output_type": "stream",
     "text": [
      "Test Accuracy: 0.6083943410857446\n",
      "Train Accuracy: 0.7741328184677938\n",
      "Recall:  0.43141406174325764\n",
      "Precision:  0.5749774081109492\n",
      "F1 score:  0.4929559648984109\n"
     ]
    }
   ],
   "source": [
    "from sklearn.ensemble import RandomForestClassifier\n",
    "clf = RandomForestClassifier()\n",
    "clf = clf.fit(X_train, y_train)\n",
    "y_pred = clf.predict(X_test)\n",
    "y_train_pred=clf.predict(X_train)\n",
    "print(\"Test Accuracy:\",accuracy_score(y_test, y_pred))\n",
    "print(\"Train Accuracy:\",accuracy_score(y_train, y_train_pred))\n",
    "print('Recall: ',recall_score(y_test,y_pred))\n",
    "print('Precision: ',precision_score(y_test,y_pred))\n",
    "print('F1 score: ',f1_score(y_test,y_pred))"
   ]
  },
  {
   "cell_type": "markdown",
   "metadata": {},
   "source": [
    "## Neural Networks"
   ]
  },
  {
   "cell_type": "code",
   "execution_count": 43,
   "metadata": {},
   "outputs": [
    {
     "name": "stdout",
     "output_type": "stream",
     "text": [
      "Epoch 1/50\n",
      "20783/20783 [==============================] - 25s 1ms/step - loss: 0.6467 - accuracy: 0.6324\n",
      "Epoch 2/50\n",
      "20783/20783 [==============================] - 27s 1ms/step - loss: 0.6436 - accuracy: 0.6356\n",
      "Epoch 3/50\n",
      "20783/20783 [==============================] - 29s 1ms/step - loss: 0.6430 - accuracy: 0.6364\n",
      "Epoch 4/50\n",
      "20783/20783 [==============================] - 29s 1ms/step - loss: 0.6427 - accuracy: 0.6367\n",
      "Epoch 5/50\n",
      "20783/20783 [==============================] - 38s 2ms/step - loss: 0.6426 - accuracy: 0.6365\n",
      "Epoch 6/50\n",
      "20783/20783 [==============================] - 34s 2ms/step - loss: 0.6424 - accuracy: 0.6363\n",
      "Epoch 7/50\n",
      "20783/20783 [==============================] - 31s 1ms/step - loss: 0.6424 - accuracy: 0.6369\n",
      "Epoch 8/50\n",
      "20783/20783 [==============================] - 31s 1ms/step - loss: 0.6423 - accuracy: 0.6368\n",
      "Epoch 9/50\n",
      "20783/20783 [==============================] - 33s 2ms/step - loss: 0.6423 - accuracy: 0.6366\n",
      "Epoch 10/50\n",
      "20783/20783 [==============================] - 29s 1ms/step - loss: 0.6422 - accuracy: 0.6366\n",
      "Epoch 11/50\n",
      "20783/20783 [==============================] - 32s 2ms/step - loss: 0.6422 - accuracy: 0.6370\n",
      "Epoch 12/50\n",
      "20783/20783 [==============================] - 30s 1ms/step - loss: 0.6421 - accuracy: 0.6366\n",
      "Epoch 13/50\n",
      "20783/20783 [==============================] - 31s 2ms/step - loss: 0.6421 - accuracy: 0.6368\n",
      "Epoch 14/50\n",
      "20783/20783 [==============================] - 33s 2ms/step - loss: 0.6420 - accuracy: 0.6364\n",
      "Epoch 15/50\n",
      "20783/20783 [==============================] - 34s 2ms/step - loss: 0.6417 - accuracy: 0.6370\n",
      "Epoch 16/50\n",
      "20783/20783 [==============================] - 29s 1ms/step - loss: 0.6402 - accuracy: 0.6376\n",
      "Epoch 17/50\n",
      "20783/20783 [==============================] - 31s 1ms/step - loss: 0.6395 - accuracy: 0.6380\n",
      "Epoch 18/50\n",
      "20783/20783 [==============================] - 29s 1ms/step - loss: 0.6393 - accuracy: 0.6380\n",
      "Epoch 19/50\n",
      "20783/20783 [==============================] - 32s 2ms/step - loss: 0.6391 - accuracy: 0.6383\n",
      "Epoch 20/50\n",
      "20783/20783 [==============================] - 29s 1ms/step - loss: 0.6390 - accuracy: 0.6384\n",
      "Epoch 21/50\n",
      "20783/20783 [==============================] - 32s 2ms/step - loss: 0.6389 - accuracy: 0.6381\n",
      "Epoch 22/50\n",
      "20783/20783 [==============================] - 33s 2ms/step - loss: 0.6388 - accuracy: 0.6382\n",
      "Epoch 23/50\n",
      "20783/20783 [==============================] - 33s 2ms/step - loss: 0.6389 - accuracy: 0.6382\n",
      "Epoch 24/50\n",
      "20783/20783 [==============================] - 27s 1ms/step - loss: 0.6387 - accuracy: 0.6388\n",
      "Epoch 25/50\n",
      "20783/20783 [==============================] - 32s 2ms/step - loss: 0.6388 - accuracy: 0.6385\n",
      "Epoch 26/50\n",
      "20783/20783 [==============================] - 30s 1ms/step - loss: 0.6388 - accuracy: 0.6386\n",
      "Epoch 27/50\n",
      "20783/20783 [==============================] - 27s 1ms/step - loss: 0.6388 - accuracy: 0.6382 1s - loss: 0\n",
      "Epoch 28/50\n",
      "20783/20783 [==============================] - 30s 1ms/step - loss: 0.6386 - accuracy: 0.6390\n",
      "Epoch 29/50\n",
      "20783/20783 [==============================] - 30s 1ms/step - loss: 0.6386 - accuracy: 0.6384\n",
      "Epoch 30/50\n",
      "20783/20783 [==============================] - 30s 1ms/step - loss: 0.6385 - accuracy: 0.6384\n",
      "Epoch 31/50\n",
      "20783/20783 [==============================] - 29s 1ms/step - loss: 0.6386 - accuracy: 0.6388\n",
      "Epoch 32/50\n",
      "20783/20783 [==============================] - 29s 1ms/step - loss: 0.6386 - accuracy: 0.6387\n",
      "Epoch 33/50\n",
      "20783/20783 [==============================] - 30s 1ms/step - loss: 0.6386 - accuracy: 0.6384\n",
      "Epoch 34/50\n",
      "20783/20783 [==============================] - 28s 1ms/step - loss: 0.6386 - accuracy: 0.6385\n",
      "Epoch 35/50\n",
      "20783/20783 [==============================] - 31s 2ms/step - loss: 0.6386 - accuracy: 0.6390\n",
      "Epoch 36/50\n",
      "20783/20783 [==============================] - 28s 1ms/step - loss: 0.6386 - accuracy: 0.6388\n",
      "Epoch 37/50\n",
      "20783/20783 [==============================] - 33s 2ms/step - loss: 0.6386 - accuracy: 0.6383\n",
      "Epoch 38/50\n",
      "20783/20783 [==============================] - 33s 2ms/step - loss: 0.6386 - accuracy: 0.6390\n",
      "Epoch 39/50\n",
      "20783/20783 [==============================] - 32s 2ms/step - loss: 0.6385 - accuracy: 0.6387\n",
      "Epoch 40/50\n",
      "20783/20783 [==============================] - 31s 1ms/step - loss: 0.6385 - accuracy: 0.6388\n",
      "Epoch 41/50\n",
      "20783/20783 [==============================] - 31s 2ms/step - loss: 0.6385 - accuracy: 0.6386\n",
      "Epoch 42/50\n",
      "20783/20783 [==============================] - 32s 2ms/step - loss: 0.6385 - accuracy: 0.6390\n",
      "Epoch 43/50\n",
      "20783/20783 [==============================] - 31s 1ms/step - loss: 0.6384 - accuracy: 0.6390\n",
      "Epoch 44/50\n",
      "20783/20783 [==============================] - 30s 1ms/step - loss: 0.6384 - accuracy: 0.6385\n",
      "Epoch 45/50\n",
      "20783/20783 [==============================] - 32s 2ms/step - loss: 0.6384 - accuracy: 0.6387\n",
      "Epoch 46/50\n",
      "20783/20783 [==============================] - 29s 1ms/step - loss: 0.6384 - accuracy: 0.6389\n",
      "Epoch 47/50\n",
      "20783/20783 [==============================] - 32s 2ms/step - loss: 0.6384 - accuracy: 0.6386\n",
      "Epoch 48/50\n",
      "20783/20783 [==============================] - 29s 1ms/step - loss: 0.6385 - accuracy: 0.6386\n",
      "Epoch 49/50\n",
      "20783/20783 [==============================] - 31s 1ms/step - loss: 0.6384 - accuracy: 0.6386\n",
      "Epoch 50/50\n",
      "20783/20783 [==============================] - 42s 2ms/step - loss: 0.6384 - accuracy: 0.6389\n",
      "5119/5119 [==============================] - 9s 2ms/step - loss: 0.6402 - accuracy: 0.6380\n",
      "Test Accuracy: 63.80\n",
      "10392/10392 [==============================] - 14s 1ms/step - loss: 0.6385 - accuracy: 0.6388\n",
      "Train Accuracy: 63.88\n"
     ]
    }
   ],
   "source": [
    "from keras.models import Sequential\n",
    "from keras.layers import Dense\n",
    "# define the model\n",
    "model = Sequential()\n",
    "model.add(Dense(10, input_dim=X_train.shape[1], activation='relu', kernel_initializer='he_normal'))\n",
    "model.add(Dense(1, activation='sigmoid'))\n",
    "# compile the keras model\n",
    "model.compile(loss='binary_crossentropy', optimizer='adam', metrics=['accuracy'])\n",
    "# fit the keras model on the dataset\n",
    "model.fit(X_train, y_train, epochs=50, batch_size=16, verbose=1)\n",
    "# evaluate the keras model\n",
    "_, accuracy = model.evaluate(X_test, y_test, verbose=1)\n",
    "print('Test Accuracy: %.2f' % (accuracy*100))\n",
    "_, accuracy = model.evaluate(X_train, y_train, verbose=1)\n",
    "print('Train Accuracy: %.2f' % (accuracy*100))"
   ]
  },
  {
   "cell_type": "code",
   "execution_count": 125,
   "metadata": {},
   "outputs": [],
   "source": [
    "from sklearn.metrics import accuracy_score\n",
    "y_pred=model.predict(X_test)\n",
    "y_train_pred=model.predict(X_train)\n",
    "# print(\"Test Accuracy:\",accuracy_score(y_test, y_pred))\n",
    "# print(\"Train Accuracy:\",accuracy_score(y_train, y_train_pred))\n",
    "# print('Recall: ',recall_score(y_test,y_pred))\n",
    "# print('Precision: ',precision_score(y_test,y_pred))\n",
    "# print('F1 score: ',f1_score(y_test,y_pred))"
   ]
  },
  {
   "cell_type": "code",
   "execution_count": 117,
   "metadata": {},
   "outputs": [
    {
     "data": {
      "text/plain": [
       "array([[0.4043709 ],\n",
       "       [0.3746665 ],\n",
       "       [0.503599  ],\n",
       "       ...,\n",
       "       [0.48582065],\n",
       "       [0.52238214],\n",
       "       [0.38263354]], dtype=float32)"
      ]
     },
     "execution_count": 117,
     "metadata": {},
     "output_type": "execute_result"
    }
   ],
   "source": [
    "y_train_pred"
   ]
  },
  {
   "cell_type": "code",
   "execution_count": 118,
   "metadata": {},
   "outputs": [
    {
     "name": "stdout",
     "output_type": "stream",
     "text": [
      "Threshold:  0.31 Recall:  0.9135949807344768\n"
     ]
    }
   ],
   "source": [
    "y_train_pred=opt(y_train,y_train_pred)"
   ]
  },
  {
   "cell_type": "code",
   "execution_count": 119,
   "metadata": {},
   "outputs": [
    {
     "name": "stdout",
     "output_type": "stream",
     "text": [
      "Train Accuracy: 0.5133407916659148\n"
     ]
    }
   ],
   "source": [
    "print(\"Train Accuracy:\",accuracy_score(y_train, y_train_pred))"
   ]
  },
  {
   "cell_type": "code",
   "execution_count": 121,
   "metadata": {},
   "outputs": [
    {
     "name": "stdout",
     "output_type": "stream",
     "text": [
      "Recall:  0.9123251276516252\n",
      "Precision:  0.47272870673769796\n",
      "F1 score:  0.622766086069445\n",
      "Test Accuracy: 0.5123002619415424\n"
     ]
    }
   ],
   "source": [
    "pred_bool = ((y_pred)>0.31)\n",
    "y_pred=np.multiply(pred_bool, 1)[:,0]\n",
    "print('Recall: ',recall_score(y_test,y_pred))\n",
    "print('Precision: ',precision_score(y_test,y_pred))\n",
    "print('F1 score: ',f1_score(y_test,y_pred))\n",
    "print(\"Test Accuracy:\",accuracy_score(y_test, y_pred))"
   ]
  },
  {
   "cell_type": "markdown",
   "metadata": {},
   "source": [
    "## Neural Network without using threshold probability function"
   ]
  },
  {
   "cell_type": "code",
   "execution_count": 126,
   "metadata": {},
   "outputs": [
    {
     "name": "stdout",
     "output_type": "stream",
     "text": [
      "Test Accuracy: 0.638026096460431\n",
      "Train Accuracy: 0.6387821264668555\n",
      "Recall:  0.3762713271617751\n",
      "Precision:  0.6568115942028986\n",
      "F1 score:  0.4784502098234316\n"
     ]
    }
   ],
   "source": [
    "pred_bool = ((y_pred)>0.5)\n",
    "y_pred=np.multiply(pred_bool, 1)[:,0]\n",
    "pred_bool = ((y_train_pred)>0.5)\n",
    "y_train_pred=np.multiply(pred_bool, 1)[:,0]\n",
    "print(\"Test Accuracy:\",accuracy_score(y_test, y_pred))\n",
    "print(\"Train Accuracy:\",accuracy_score(y_train, y_train_pred))\n",
    "print('Recall: ',recall_score(y_test,y_pred))\n",
    "print('Precision: ',precision_score(y_test,y_pred))\n",
    "print('F1 score: ',f1_score(y_test,y_pred))"
   ]
  },
  {
   "cell_type": "markdown",
   "metadata": {},
   "source": [
    "## Logistic Regression"
   ]
  },
  {
   "cell_type": "code",
   "execution_count": 127,
   "metadata": {},
   "outputs": [
    {
     "name": "stderr",
     "output_type": "stream",
     "text": [
      "C:\\Users\\parth\\anaconda3\\lib\\site-packages\\sklearn\\utils\\validation.py:72: DataConversionWarning: A column-vector y was passed when a 1d array was expected. Please change the shape of y to (n_samples, ), for example using ravel().\n",
      "  return f(**kwargs)\n"
     ]
    },
    {
     "name": "stdout",
     "output_type": "stream",
     "text": [
      "Threshold:  0.05 Recall:  1.0\n",
      "Train Accuracy: 0.44098895084116757\n"
     ]
    }
   ],
   "source": [
    "from sklearn.linear_model import LogisticRegression\n",
    "clf=LogisticRegression()\n",
    "clf.fit(X_train,y_train)\n",
    "y_pred = clf.predict_proba(X_test)\n",
    "y_train_pred=clf.predict_proba(X_train)\n",
    "y_train_pred=y_train_pred[:,0]\n",
    "y_train_pred=opt(y_train,y_train_pred)\n",
    "print(\"Train Accuracy:\",accuracy_score(y_train, y_train_pred))"
   ]
  },
  {
   "cell_type": "code",
   "execution_count": 128,
   "metadata": {},
   "outputs": [
    {
     "name": "stdout",
     "output_type": "stream",
     "text": [
      "Recall:  1.0\n",
      "Precision:  0.4412524347130549\n",
      "F1 score:  0.6123180423988748\n",
      "Test Accuracy: 0.4412524347130549\n"
     ]
    }
   ],
   "source": [
    "pred_bool = ((y_pred)>0.05)\n",
    "y_pred=np.multiply(pred_bool, 1)[:,0]\n",
    "print('Recall: ',recall_score(y_test,y_pred))\n",
    "print('Precision: ',precision_score(y_test,y_pred))\n",
    "print('F1 score: ',f1_score(y_test,y_pred))\n",
    "print(\"Test Accuracy:\",accuracy_score(y_test, y_pred))"
   ]
  },
  {
   "cell_type": "markdown",
   "metadata": {},
   "source": [
    "## Logistic Regression without using threshold function"
   ]
  },
  {
   "cell_type": "code",
   "execution_count": 129,
   "metadata": {},
   "outputs": [
    {
     "name": "stderr",
     "output_type": "stream",
     "text": [
      "C:\\Users\\parth\\anaconda3\\lib\\site-packages\\sklearn\\utils\\validation.py:72: DataConversionWarning: A column-vector y was passed when a 1d array was expected. Please change the shape of y to (n_samples, ), for example using ravel().\n",
      "  return f(**kwargs)\n"
     ]
    },
    {
     "name": "stdout",
     "output_type": "stream",
     "text": [
      "Test Accuracy: 0.6328116890650092\n",
      "Train Accuracy: 0.6325026916159922\n",
      "Recall:  0.3726182074805928\n",
      "Precision:  0.64535301730336\n",
      "F1 score:  0.4724500627231496\n"
     ]
    }
   ],
   "source": [
    "from sklearn.linear_model import LogisticRegression\n",
    "clf=LogisticRegression()\n",
    "clf.fit(X_train,y_train)\n",
    "y_pred = clf.predict(X_test)\n",
    "y_train_pred=clf.predict(X_train)\n",
    "print(\"Test Accuracy:\",accuracy_score(y_test, y_pred))\n",
    "print(\"Train Accuracy:\",accuracy_score(y_train, y_train_pred))\n",
    "print('Recall: ',recall_score(y_test,y_pred))\n",
    "print('Precision: ',precision_score(y_test,y_pred))\n",
    "print('F1 score: ',f1_score(y_test,y_pred))"
   ]
  },
  {
   "cell_type": "code",
   "execution_count": null,
   "metadata": {},
   "outputs": [],
   "source": []
  }
 ],
 "metadata": {
  "kernelspec": {
   "display_name": "Python 3",
   "language": "python",
   "name": "python3"
  },
  "language_info": {
   "codemirror_mode": {
    "name": "ipython",
    "version": 3
   },
   "file_extension": ".py",
   "mimetype": "text/x-python",
   "name": "python",
   "nbconvert_exporter": "python",
   "pygments_lexer": "ipython3",
   "version": "3.7.6"
  }
 },
 "nbformat": 4,
 "nbformat_minor": 4
}
